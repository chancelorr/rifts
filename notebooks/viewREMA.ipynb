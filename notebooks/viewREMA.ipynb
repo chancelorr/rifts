{
 "cells": [
  {
   "cell_type": "code",
   "execution_count": 3,
   "id": "ee3e5c1d-78bf-4918-ad17-b783313a40de",
   "metadata": {
    "tags": []
   },
   "outputs": [],
   "source": [
    "import os\n",
    "import requests\n",
    "import datetime\n",
    "import numpy as np\n",
    "import xarray\n",
    "import rasterio as rs\n",
    "import rioxarray\n",
    "\n",
    "from shapely import Polygon\n",
    "\n",
    "import geopandas as gpd\n",
    "import pandas as pd"
   ]
  },
  {
   "cell_type": "code",
   "execution_count": 10,
   "id": "966fdad9-83a8-45a8-88c4-facb3632a058",
   "metadata": {},
   "outputs": [
    {
     "name": "stderr",
     "output_type": "stream",
     "text": [
      "ERROR 1: TIFFFillTile:Read error at row 4294967295, col 4294967295, tile 0; got 0 bytes, expected 6633\n",
      "ERROR 1: TIFFReadEncodedTile() failed.\n",
      "ERROR 1: ../data/filchnerREMA/SETSM_s2s041_WV01_20200924_10200100992D5F00_102001009E3AD700_2m_lsf_seg1_dem.tif, band 1: IReadBlock failed at X offset 0, Y offset 0: TIFFReadEncodedTile() failed.\n"
     ]
    },
    {
     "ename": "RasterioIOError",
     "evalue": "Read or write failed. ../data/filchnerREMA/SETSM_s2s041_WV01_20200924_10200100992D5F00_102001009E3AD700_2m_lsf_seg1_dem.tif, band 1: IReadBlock failed at X offset 0, Y offset 0: TIFFReadEncodedTile() failed.",
     "output_type": "error",
     "traceback": [
      "\u001b[0;31m---------------------------------------------------------------------------\u001b[0m",
      "\u001b[0;31mCPLE_AppDefinedError\u001b[0m                      Traceback (most recent call last)",
      "File \u001b[0;32mrasterio/_io.pyx:975\u001b[0m, in \u001b[0;36mrasterio._io.DatasetReaderBase._read\u001b[0;34m()\u001b[0m\n",
      "File \u001b[0;32mrasterio/_io.pyx:213\u001b[0m, in \u001b[0;36mrasterio._io.io_multi_band\u001b[0;34m()\u001b[0m\n",
      "File \u001b[0;32mrasterio/_err.pyx:195\u001b[0m, in \u001b[0;36mrasterio._err.exc_wrap_int\u001b[0;34m()\u001b[0m\n",
      "\u001b[0;31mCPLE_AppDefinedError\u001b[0m: ../data/filchnerREMA/SETSM_s2s041_WV01_20200924_10200100992D5F00_102001009E3AD700_2m_lsf_seg1_dem.tif, band 1: IReadBlock failed at X offset 0, Y offset 0: TIFFReadEncodedTile() failed.",
      "\nDuring handling of the above exception, another exception occurred:\n",
      "\u001b[0;31mRasterioIOError\u001b[0m                           Traceback (most recent call last)",
      "Cell \u001b[0;32mIn [10], line 3\u001b[0m\n\u001b[1;32m      1\u001b[0m file \u001b[38;5;241m=\u001b[39m \u001b[38;5;124m\"\u001b[39m\u001b[38;5;124m../data/filchnerREMA/SETSM_s2s041_WV01_20200924_10200100992D5F00_102001009E3AD700_2m_lsf_seg1_dem.tif\u001b[39m\u001b[38;5;124m\"\u001b[39m\n\u001b[1;32m      2\u001b[0m raster \u001b[38;5;241m=\u001b[39m rs\u001b[38;5;241m.\u001b[39mopen(file)\n\u001b[0;32m----> 3\u001b[0m array \u001b[38;5;241m=\u001b[39m \u001b[43mraster\u001b[49m\u001b[38;5;241;43m.\u001b[39;49m\u001b[43mread\u001b[49m\u001b[43m(\u001b[49m\u001b[43m)\u001b[49m\n\u001b[1;32m      4\u001b[0m \u001b[38;5;66;03m#rs.show(raster)\u001b[39;00m\n",
      "File \u001b[0;32mrasterio/_io.pyx:651\u001b[0m, in \u001b[0;36mrasterio._io.DatasetReaderBase.read\u001b[0;34m()\u001b[0m\n",
      "File \u001b[0;32mrasterio/_io.pyx:978\u001b[0m, in \u001b[0;36mrasterio._io.DatasetReaderBase._read\u001b[0;34m()\u001b[0m\n",
      "\u001b[0;31mRasterioIOError\u001b[0m: Read or write failed. ../data/filchnerREMA/SETSM_s2s041_WV01_20200924_10200100992D5F00_102001009E3AD700_2m_lsf_seg1_dem.tif, band 1: IReadBlock failed at X offset 0, Y offset 0: TIFFReadEncodedTile() failed."
     ]
    }
   ],
   "source": [
    "file = \"../data/filchnerREMA/SETSM_s2s041_WV01_20200924_10200100992D5F00_102001009E3AD700_2m_lsf_seg1_dem.tif\"\n",
    "raster = rs.open(file)\n",
    "array = raster.read()\n",
    "#rs.show(raster)"
   ]
  },
  {
   "cell_type": "code",
   "execution_count": 9,
   "id": "3c852c4e-ac07-44e4-8bbf-66d7519cb549",
   "metadata": {
    "tags": []
   },
   "outputs": [
    {
     "data": {
      "text/plain": [
       "<open DatasetReader name='../data/filchnerREMA/SETSM_s2s041_WV01_20200924_10200100992D5F00_102001009E3AD700_2m_lsf_seg1_dem.tif' mode='r'>"
      ]
     },
     "execution_count": 9,
     "metadata": {},
     "output_type": "execute_result"
    }
   ],
   "source": [
    "raster"
   ]
  },
  {
   "cell_type": "code",
   "execution_count": null,
   "id": "f4c20f0e-2907-466f-aae0-fab4de644383",
   "metadata": {},
   "outputs": [],
   "source": []
  }
 ],
 "metadata": {
  "kernelspec": {
   "display_name": "Python 3 (ipykernel)",
   "language": "python",
   "name": "python3"
  },
  "language_info": {
   "codemirror_mode": {
    "name": "ipython",
    "version": 3
   },
   "file_extension": ".py",
   "mimetype": "text/x-python",
   "name": "python",
   "nbconvert_exporter": "python",
   "pygments_lexer": "ipython3",
   "version": "3.10.12"
  }
 },
 "nbformat": 4,
 "nbformat_minor": 5
}
