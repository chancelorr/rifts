{
 "cells": [
  {
   "cell_type": "markdown",
   "id": "490acfa7-ab55-4c1a-ba16-43cff8a77c4a",
   "metadata": {},
   "source": [
    "This incomplete notebook is meant to quiery NSIDC for granules available within a polygon and at the specifed dates, cycle, etc.\n",
    "\n",
    "The issue right now is reading in polygons from the .geojson format"
   ]
  },
  {
   "cell_type": "code",
   "execution_count": 6,
   "id": "66c051a2-31bd-4c21-a92e-8f1980df9e5c",
   "metadata": {
    "tags": []
   },
   "outputs": [],
   "source": [
    "import numpy as np\n",
    "import matplotlib.pyplot as plt\n",
    "import requests\n",
    "import json"
   ]
  },
  {
   "cell_type": "code",
   "execution_count": 14,
   "id": "3fffa2a1-8756-477a-b799-f306955f1253",
   "metadata": {
    "tags": []
   },
   "outputs": [],
   "source": [
    "#####################################################################################\n",
    "#################################### Begin user input ###############################\n",
    "\n",
    "# Credentials\n",
    "\n",
    "uid = 'ccroberts'  # Enter Earthdata Login user name\n",
    "pswd = 'Stratele1.' # Enter Earthdata Login password\n",
    "email = 'ccroberts@ucsd.edu' # Enter Earthdata login email \n",
    "\n",
    "# Data product (e.g., 'ATL03')\n",
    "short_name = 'ATL06'\n",
    "\n",
    "# Identify region of interest (.geojson polygon)\n",
    "site = \"Ross1\"\n",
    "# Identify polygon file\n",
    "polyPath = f\"../shapes/{site}.geojson\"\n",
    "\n",
    "# Subset by date?\n",
    "dateFlag = False\n",
    "if dateFlag:\n",
    "    # Dates in 'yyyy-mm-dd'\n",
    "    # Times in 'HH:mm:ss'\n",
    "    start_date = '2021-07-10'\n",
    "    start_time = '00:00:00'\n",
    "    end_date = '2022-08-11'\n",
    "    end_time = '23:59:59'\n",
    "    \n",
    "# By cycle?\n",
    "cycle = 16\n",
    "\n",
    "# REVIEW THESE VALUES\n",
    "# Cloud cover\n",
    "#cloud_cover = [0.2, 70]\n",
    "\n",
    "# Subsetting by bounding box, based on the area of interest inputted above\n",
    "ss = 'n'\n",
    "# Subsetting by geospatial file (Esri Shapefile, KML, etc.)\n",
    "ps = 'y'\n",
    "# Subsetting by time, based on the temporal range inputted above\n",
    "ts = 'y'\n",
    "# Reformatting option (make sure to omit quotes, e.g. GeoTIFF), otherwise leave blank.\n",
    "reformat = 'n'\n",
    "# If yes, more options are needed (see code below)\n",
    "\n",
    "# Variable subsetting (remove spaces and retain all forward slashes)\n",
    "#coverage='/gt1l/land_ice_segments/h_li,/gt1l/land_ice_segments/longitude,/gt1l/land_ice_segments/latitude'\n",
    "coverage=''\n",
    "\n",
    "# Outfile location\n",
    "path = ''\n",
    "\n",
    "\n",
    "#################################### End user input ##################################\n",
    "######################################################################################"
   ]
  },
  {
   "cell_type": "code",
   "execution_count": 49,
   "id": "015813e6-bf0e-475a-b710-9aece39bd5c8",
   "metadata": {
    "tags": []
   },
   "outputs": [],
   "source": [
    "with open(polyPath) as json_file:\n",
    "    polygon = json.load(json_file)\n",
    "\n",
    "# If polygon file input:\n",
    "search_params = {\n",
    "'short_name': short_name,\n",
    "'version': '006',\n",
    "'cycle': cycle,\n",
    "'page_size': 100,\n",
    "'page_num': 1,\n",
    "'polygon': polygon,\n",
    "}\n",
    "    \n",
    "granule_search_url = 'https://cmr.earthdata.nasa.gov/search/granules'"
   ]
  },
  {
   "cell_type": "code",
   "execution_count": 16,
   "id": "82cb4654-0df0-4c61-ac72-f451e39f5496",
   "metadata": {
    "tags": []
   },
   "outputs": [
    {
     "name": "stdout",
     "output_type": "stream",
     "text": [
      "Help on function get in module requests.api:\n",
      "\n",
      "get(url, params=None, **kwargs)\n",
      "    Sends a GET request.\n",
      "    \n",
      "    :param url: URL for the new :class:`Request` object.\n",
      "    :param params: (optional) Dictionary, list of tuples or bytes to send\n",
      "        in the query string for the :class:`Request`.\n",
      "    :param \\*\\*kwargs: Optional arguments that ``request`` takes.\n",
      "    :return: :class:`Response <Response>` object\n",
      "    :rtype: requests.Response\n",
      "\n"
     ]
    }
   ],
   "source": [
    "help(requests.get)"
   ]
  },
  {
   "cell_type": "code",
   "execution_count": 30,
   "id": "eebec739-8fb7-4787-892e-c9d33d7eb955",
   "metadata": {
    "tags": []
   },
   "outputs": [
    {
     "name": "stdout",
     "output_type": "stream",
     "text": [
      "Help on function post in module requests.api:\n",
      "\n",
      "post(url, data=None, json=None, **kwargs)\n",
      "    Sends a POST request.\n",
      "    \n",
      "    :param url: URL for the new :class:`Request` object.\n",
      "    :param data: (optional) Dictionary, list of tuples, bytes, or file-like\n",
      "        object to send in the body of the :class:`Request`.\n",
      "    :param json: (optional) A JSON serializable Python object to send in the body of the :class:`Request`.\n",
      "    :param \\*\\*kwargs: Optional arguments that ``request`` takes.\n",
      "    :return: :class:`Response <Response>` object\n",
      "    :rtype: requests.Response\n",
      "\n"
     ]
    }
   ],
   "source": [
    "help(requests.post)"
   ]
  },
  {
   "cell_type": "code",
   "execution_count": 59,
   "id": "07ed0c79-0e9e-4834-8b72-2eae9c60cdeb",
   "metadata": {
    "tags": []
   },
   "outputs": [
    {
     "ename": "NameError",
     "evalue": "name 'geometry' is not defined",
     "output_type": "error",
     "traceback": [
      "\u001b[0;31m---------------------------------------------------------------------------\u001b[0m",
      "\u001b[0;31mNameError\u001b[0m                                 Traceback (most recent call last)",
      "Cell \u001b[0;32mIn [59], line 1\u001b[0m\n\u001b[0;32m----> 1\u001b[0m polygon[\u001b[43mgeometry\u001b[49m]\n",
      "\u001b[0;31mNameError\u001b[0m: name 'geometry' is not defined"
     ]
    }
   ],
   "source": [
    "polygon["
   ]
  },
  {
   "cell_type": "code",
   "execution_count": 55,
   "id": "4eb9dd1f-6e19-4b5a-83f2-1d1534850d66",
   "metadata": {
    "tags": []
   },
   "outputs": [],
   "source": [
    "# Run post with geojson polygon\n",
    "postP = {\n",
    "    'shapefile' : polyPath,\n",
    "    'type' : 'application/geo+json', \n",
    "    #'provider' : \"PROV1\",\n",
    "}\n",
    "polyPost = requests.post(granule_search_url, params=postP)"
   ]
  },
  {
   "cell_type": "code",
   "execution_count": 56,
   "id": "f4e7ab05-2111-4a39-a786-10788a0441cf",
   "metadata": {
    "tags": []
   },
   "outputs": [
    {
     "data": {
      "text/plain": [
       "b'<?xml version=\"1.0\" encoding=\"UTF-8\"?><errors><error>The CMR does not allow querying across granules in all collections. To help optimize your search, you should limit your query using conditions that identify one or more collections, such as provider, provider_id, concept_id, collection_concept_id, short_name, version or entry_title. For any questions please contact cmr-support@earthdata.nasa.gov.</error></errors>'"
      ]
     },
     "execution_count": 56,
     "metadata": {},
     "output_type": "execute_result"
    }
   ],
   "source": [
    "polyPost.content"
   ]
  },
  {
   "cell_type": "code",
   "execution_count": 27,
   "id": "a7657fcb-def0-4ab2-ac8d-52811e2d4ba6",
   "metadata": {
    "tags": []
   },
   "outputs": [],
   "source": [
    "\n",
    "response = requests.get(granule_search_url, params=search_params, headers=headers)\n",
    "result = json.loads(response.content)"
   ]
  },
  {
   "cell_type": "code",
   "execution_count": 28,
   "id": "525c9f49-658e-408a-a9ec-0906c37fa9fd",
   "metadata": {
    "tags": []
   },
   "outputs": [
    {
     "data": {
      "text/plain": [
       "<zip at 0x7f3b136ff700>"
      ]
     },
     "execution_count": 28,
     "metadata": {},
     "output_type": "execute_result"
    }
   ],
   "source": [
    "result"
   ]
  },
  {
   "cell_type": "code",
   "execution_count": 10,
   "id": "27760c23-0737-42fe-be47-8cf266a3794c",
   "metadata": {
    "tags": []
   },
   "outputs": [
    {
     "ename": "KeyError",
     "evalue": "'feed'",
     "output_type": "error",
     "traceback": [
      "\u001b[0;31m---------------------------------------------------------------------------\u001b[0m",
      "\u001b[0;31mKeyError\u001b[0m                                  Traceback (most recent call last)",
      "Cell \u001b[0;32mIn [10], line 7\u001b[0m\n\u001b[1;32m      4\u001b[0m response \u001b[38;5;241m=\u001b[39m requests\u001b[38;5;241m.\u001b[39mget(granule_search_url, params\u001b[38;5;241m=\u001b[39msearch_params, headers\u001b[38;5;241m=\u001b[39mheaders)\n\u001b[1;32m      5\u001b[0m results \u001b[38;5;241m=\u001b[39m json\u001b[38;5;241m.\u001b[39mloads(response\u001b[38;5;241m.\u001b[39mcontent)\n\u001b[0;32m----> 7\u001b[0m \u001b[38;5;28;01mif\u001b[39;00m \u001b[38;5;28mlen\u001b[39m(\u001b[43mresults\u001b[49m\u001b[43m[\u001b[49m\u001b[38;5;124;43m'\u001b[39;49m\u001b[38;5;124;43mfeed\u001b[39;49m\u001b[38;5;124;43m'\u001b[39;49m\u001b[43m]\u001b[49m[\u001b[38;5;124m'\u001b[39m\u001b[38;5;124mentry\u001b[39m\u001b[38;5;124m'\u001b[39m]) \u001b[38;5;241m==\u001b[39m \u001b[38;5;241m0\u001b[39m:\n\u001b[1;32m      8\u001b[0m \u001b[38;5;66;03m#    # Out of results, so break out of loop\u001b[39;00m\n\u001b[1;32m      9\u001b[0m     \u001b[38;5;28;01mbreak\u001b[39;00m\n\u001b[1;32m     11\u001b[0m \u001b[38;5;66;03m# Collect results and increment page_num\u001b[39;00m\n",
      "\u001b[0;31mKeyError\u001b[0m: 'feed'"
     ]
    }
   ],
   "source": [
    "granules = []\n",
    "headers={'Accept': 'application/json'}\n",
    "while True:\n",
    "    response = requests.get(granule_search_url, params=search_params, headers=headers)\n",
    "    result = json.loads(response.content)\n",
    "\n",
    "    if len(result['feed']['entry']) == 0:\n",
    "    #    # Out of results, so break out of loop\n",
    "        break\n",
    "\n",
    "    # Collect results and increment page_num\n",
    "    granules.extend(results['feed']['entry'])\n",
    "    search_params['page_num'] += 1\n",
    "\n",
    "print('There are', len(granules), 'granules of', short_name, 'version', latest_version, 'over my area and time of interest.')\n",
    "\n",
    "granule_sizes = [float(granule['granule_size']) for granule in granules]\n",
    "\n",
    "print(f'The average size of each granule is {np.mean(granule_sizes):.2f} MB and the total size of all {len(granules)} granules is {sum(granule_sizes):.2f} MB')"
   ]
  }
 ],
 "metadata": {
  "kernelspec": {
   "display_name": "Python 3 (ipykernel)",
   "language": "python",
   "name": "python3"
  },
  "language_info": {
   "codemirror_mode": {
    "name": "ipython",
    "version": 3
   },
   "file_extension": ".py",
   "mimetype": "text/x-python",
   "name": "python",
   "nbconvert_exporter": "python",
   "pygments_lexer": "ipython3",
   "version": "3.10.12"
  }
 },
 "nbformat": 4,
 "nbformat_minor": 5
}
