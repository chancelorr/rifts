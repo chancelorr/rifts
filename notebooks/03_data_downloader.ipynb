{
 "cells": [
  {
   "cell_type": "code",
   "execution_count": 2,
   "id": "690d95cc-4022-482d-b785-ccd1e0779e08",
   "metadata": {},
   "outputs": [],
   "source": [
    "# sort in order of appearance\n",
    "\n",
    "import numpy as np\n",
    "import sys\n",
    "import logging\n",
    "import concurrent.futures\n",
    "import time\n",
    "from datetime import datetime\n",
    "import pandas as pd\n",
    "import geopandas as gpd\n",
    "import matplotlib.pyplot as plt\n",
    "from pyproj import Transformer, CRS\n",
    "import shapely.geometry as sg\n",
    "from shapely.geometry import Polygon, Point\n",
    "from sliderule import sliderule, icesat2, earthdata, h5, ipysliderule, io\n",
    "import warnings\n",
    "from IPython import display\n",
    "import json\n",
    "import utils.toolshelf as t\n",
    "from random import sample\n",
    "import os\n",
    "\n",
    "import fiona\n",
    "\n",
    "warnings.filterwarnings('ignore')\n",
    "%matplotlib inline"
   ]
  },
  {
   "cell_type": "code",
   "execution_count": 3,
   "id": "2cfa7ade-5f02-4414-b110-6eab29100473",
   "metadata": {},
   "outputs": [],
   "source": [
    "####################### SET PARAMETERS #################\n",
    "singleCycle = True\n",
    "cycle = 20\n",
    "\n",
    "\n",
    "## Select location and cycle (2 digit cycle number)\n",
    "site = \"ross1\"\n",
    "startCycle = 1\n",
    "endCycle = 21\n",
    "\n",
    "#Location specific settings\n",
    "melange_cutoff = 30\n",
    "\n",
    "## Data access options\n",
    "\n",
    "# (-1: Skip altogether, 0: process fresh, 1: load from geojson, 2: load from csv)\n",
    "accessType03 = 0\n",
    "accessType06 = 0\n",
    "\n",
    "ignoreTracks=None\n",
    "\n",
    "## input options\n",
    "\n",
    "# resolution (recommended 20.0)\n",
    "# \"len\" and \"res\" (will be equal)\n",
    "res = 10.0\n",
    "cnf = 2\n",
    "\n",
    "#minimum track length\n",
    "\n",
    "## output options\n",
    "\n",
    "# Save flag 06 (0: dont save, 1: save as geojson (slow but everything works), \n",
    "# 2: save as csv (faster but nothing works))\n",
    "sFlag06 = 0\n",
    "\n",
    "# Save flag melange (0: dont save, 1: save as geojson)\n",
    "sFlagm = 0\n",
    "\n",
    "# Save flag 03 (0: dont save, 1: save as geojson)\n",
    "sFlag03 = 1\n",
    "\n",
    "##########"
   ]
  },
  {
   "cell_type": "code",
   "execution_count": 4,
   "id": "f598cece-a946-407d-954d-b88f10921d81",
   "metadata": {},
   "outputs": [],
   "source": [
    "# Get ATL06 Data \n",
    "\n",
    "# Configure ICESat-2 API\n",
    "icesat2.init(\"slideruleearth.io\", verbose=True)"
   ]
  },
  {
   "cell_type": "code",
   "execution_count": 5,
   "id": "bdaf2a83-4801-4675-b7d0-6de9af4c0acb",
   "metadata": {},
   "outputs": [
    {
     "name": "stdout",
     "output_type": "stream",
     "text": [
      "20\n",
      "getting data\n",
      "Processing new ATL06-SR dataset\n",
      "Reference Ground Tracks: [ 23  30  45  84  91 106 167 206 221 228 289 328 343 350 389 404 465 472\n",
      " 487 526 533 548 587 609 648 724 731 770 785 792 831 846 868]\n",
      "Beams: ['gt3r', 'gt2r', 'gt1r']\n",
      "Cycles: [20]\n",
      "Received 205234 elevations\n",
      "Across 102 strong tracks\n",
      "Date range 2023-06-21 to 2023-08-16\n",
      "Vertical range -58.44071530756748m to 295.8186065046669m\n",
      "assembling track list\n",
      "Finding tracks with minimum of 200 photons\n",
      "88 found\n",
      "[2307, 2070, 1892, 2031, 2107, 2185, 2485, 2496, 2476, 1111, 2531, 2497, 2259, 2280, 2150, 2200, 2891, 2891, 2815, 2722, 2721, 2717, 2753, 2745, 2739, 2219, 2143, 2065, 1226, 841, 837, 2781, 2773, 2767, 464, 499, 919, 2755, 2761, 2767, 2159, 2235, 2311, 2649, 2583, 2517, 2539, 2478, 2633, 1777, 1853, 1929, 2677, 2673, 2674, 2831, 2837, 2843, 2699, 2695, 2687, 2873, 2881, 2889, 930, 1843, 2224, 2743, 2737, 2731, 2304, 2265, 2193, 2579, 2655, 2731, 2771, 2765, 2759, 1883, 1886, 1553, 2745, 2741, 2732, 2214, 2149, 2081]\n",
      "tide and geoid corrections\n",
      "grabbing melange\n",
      "CPU times: user 1min 32s, sys: 1.32 s, total: 1min 33s\n",
      "Wall time: 1min 39s\n"
     ]
    }
   ],
   "source": [
    "%%time\n",
    "if singleCycle: cycleList = [cycle]\n",
    "elif not singleCycle: cycleList = range(startCycle, endCycle+1)\n",
    "for currentCycle in cycleList:\n",
    "    print(str(currentCycle).zfill(2))\n",
    "    cycle = str(currentCycle).zfill(2)\n",
    "\n",
    "    \n",
    "    ## Some defaults for file namingd\n",
    "    # _save and _load is to prevent accidentally overwriting good data\n",
    "    # as such, freshly created data needs to be managed manually\n",
    "    #if not os.path.exists(fig_dir): os.makedirs(fig_dir)\n",
    "    datRoot = f\"../data/IS2/\"\n",
    "    datRoot=f\"/Volumes/nox/Chance/rifts/data/IS2/\"\n",
    "    #if not os.path.exists(datRoot): os.makedirs(datRoot)\n",
    "    file03_save = f\"{datRoot}{site}_ATL03_cyc{cycle}_res{int(res)}\"\n",
    "    file06_save = f\"{datRoot}{site}_ATL06_cyc{cycle}_res{int(res)}\"\n",
    "    fileMel_save = f\"{datRoot}{site}_mel_cyc{cycle}_res{int(res)}\"\n",
    "    file03_load = f\"{datRoot}{site}_ATL03_res{int(res)}/{site}_ATL03_cyc{cycle}_res{int(res)}\"\n",
    "    file06_load = f\"{datRoot}{site}_ATL06_res{int(res)}/{site}_ATL06_cyc{cycle}_res{int(res)}\"\n",
    "    fileMel_load = f\"{datRoot}{site}_ATL06_mel_res{int(res)}/{site}_mel_cyc{cycle}_res{int(res)}\"\n",
    "    \n",
    "    #Params for this location\n",
    "    parms = {\n",
    "        \"poly\": t.getRegion(site, cycle),\n",
    "        \"srt\": 0,\n",
    "        \"len\": res*2,\n",
    "        \"res\": res,\n",
    "        \"cnf\": cnf,\n",
    "        \"maxi\": 6,\n",
    "        \"ats\": 5.0,\n",
    "        \"cnt\": 5,\n",
    "        \"H_min_win\": 3.0,\n",
    "        \"sigma_r_max\": 5.0,\n",
    "        \"cycle\": cycle,\n",
    "        \"atl03_geo_fields\": ['geoid', 'dem_h', 'dem_flag', 'tide_earth', 'tide_ocean', 'geoid_free2mean', 'tide_earth_free2mean']\n",
    "    }\n",
    "\n",
    "    #Triple check this cell\n",
    "    \n",
    "    print('getting data')\n",
    "    atl06_sr = t.get06Data(parms, file06_load=file06_load, accessType=accessType06, file06_save=file06_save, sFlag06=sFlag06, verbose=True)\n",
    "    \n",
    "    print('assembling track list')\n",
    "    # separate all good tracks and put them into a list\n",
    "    trackList, lens = t.getTrackList(atl06_sr, return_lens=True, omit=ignoreTracks, verbose=True)\n",
    "    ss_atl06_sr = pd.concat([t.getTrack(atl06_sr, trackInfo)[0] for trackInfo in trackList])\n",
    "    \n",
    "    print('tide and geoid corrections')\n",
    "    #Geoid and Tides\n",
    "    ss_atl06_sr.h_mean -= ss_atl06_sr.geoid+ss_atl06_sr.tide_earth+ss_atl06_sr.tide_ocean\n",
    "    \n",
    "    print('grabbing melange')\n",
    "    # Establish mélange cutoff from mean\n",
    "    melange_sr = ss_atl06_sr[ss_atl06_sr.h_mean<ss_atl06_sr.h_mean.mean()]\n",
    "    \n",
    "    melange_trackList, melange_lens = t.getTrackList(melange_sr, return_lens=True, verbose=False)\n",
    "    \n",
    "    #new tracklist\n",
    "    ss_atl06_sr_list = [t.getTrack(ss_atl06_sr, trackInfo)[0] for trackInfo in trackList]\n",
    "    #t.display06Info(ss_atl06_sr)\n",
    "    \n",
    "    \n",
    "    \n",
    "    if sFlagm==1: \n",
    "        print('saving melange')\n",
    "        t.toGeojson(melange_sr, fileMel_save)"
   ]
  },
  {
   "cell_type": "code",
   "execution_count": 6,
   "id": "45530e25-1b5e-49fe-a9cc-46765471c17d",
   "metadata": {},
   "outputs": [
    {
     "name": "stdout",
     "output_type": "stream",
     "text": [
      "43 granules with average size 551.9367357441873 MB, totalling 23.73327963700006 GB\n",
      "subsetted to 30\n",
      "CPU times: user 211 ms, sys: 8.92 ms, total: 219 ms\n",
      "Wall time: 1.01 s\n"
     ]
    }
   ],
   "source": [
    "%%time\n",
    "#EarthData query to acquire granule IDs'\n",
    "## Is this even necessary??\n",
    "\n",
    "#Get dates times\n",
    "if accessType06==0: datetimes = ss_atl06_sr.index\n",
    "elif accessType06==1: datetimes = pd.to_datetime(ss_atl06_sr.index, format='ISO8601')\n",
    "\n",
    "earthdata.set_max_resources=2000\n",
    "# must quiery by space and time\n",
    "granules_list = earthdata.cmr(short_name='ATL03', polygon=t.getRegion(site, cycle), version='006', time_start=t.getDateTime(datetimes.min()), \n",
    "    time_end=t.getDateTime(datetimes.max()), return_metadata=True)\n",
    "granMD = pd.DataFrame([t.unpackGranuleID(gran) for gran in granules_list[0]]).set_index('granuleID')\n",
    "mask = granMD['rgt'].isin(ss_atl06_sr.rgt.unique())\n",
    "granMD = granMD[mask]\n",
    "granule_sizes = [float(granule['granule_size']) for granule in granules_list[1]]\n",
    "print(f\"{len(granule_sizes)} granules with average size {np.mean(granule_sizes)/1e6} MB, totalling {np.sum(granule_sizes)/1e6/1000} GB\")\n",
    "print(f\"subsetted to {len(granMD)}\")\n",
    "\n",
    "if len(ss_atl06_sr.rgt.unique())!=len(granMD): print('number of rgts not matching between granMD and ss_atl06_sr')\n",
    "\n"
   ]
  },
  {
   "cell_type": "code",
   "execution_count": 32,
   "id": "1b943274-bb09-4664-bae7-20d7210b5816",
   "metadata": {},
   "outputs": [],
   "source": [
    "#Single track for testing\n",
    "currentTrack = melange_trackList[0]\n",
    "\n",
    "### Info for setting params \n",
    "cycle, rgt, gt = currentTrack[0], currentTrack[1], currentTrack[2]\n",
    "gtNum = int(gt[2])\n",
    "pair = 0 if gt[3]==\"l\" else 1\n",
    "\n",
    "track, cycle, rgt, t.gtDict[gt] = t.getTrack(ss_atl06_sr, currentTrack)\n",
    "mTrack, cycle, rgt, t.gtDict[gt] = t.getTrack(melange_sr, currentTrack)\n",
    "\n",
    "##### Set ATL03 sp parameters ##############################\n",
    "parms = {\n",
    "    \"poly\": t.getRegion(site, cycle),\n",
    "    \"srt\": 0,\n",
    "    \"len\": res*2,\n",
    "    \"res\": res,\n",
    "    # identify ground track\n",
    "    #\"track\": gtNum,\n",
    "    # classification and checks\n",
    "    # still return photon segments that fail checks\n",
    "    \"pass_invalid\": True,\n",
    "    # all photons\n",
    "    \"cnf\": 2,\n",
    "    \"cnt\": 5,\n",
    "    \"atl03_geo_fields\": [\"ref_azimuth\", \"ref_elev\", \"geoid\", \n",
    "        'dem_h', 'dem_flag', 'tide_earth', 'tide_ocean', 'geoid_free2mean', 'tide_earth_free2mean'],\n",
    "    \"atl03_ph_fields\": [\"delta_time\", \"weight_ph\"],\n",
    "    # all land classification flags\n",
    "    \"atl08_class\": [\"atl08_noise\", \"atl08_ground\", \"atl08_canopy\", \"atl08_top_of_canopy\", \"atl08_unclassified\"],\n",
    "    # all photons\n",
    "    #\"yapc\": dict(knn=0, win_h=6, win_x=11, min_ph=4, score=0), \n",
    "}"
   ]
  },
  {
   "cell_type": "code",
   "execution_count": 29,
   "id": "70c35bf7-7c0a-4bc7-b1be-9b9f1a01fe32",
   "metadata": {},
   "outputs": [
    {
     "name": "stdout",
     "output_type": "stream",
     "text": [
      "CPU times: user 43.4 s, sys: 377 ms, total: 43.7 s\n",
      "Wall time: 46.3 s\n"
     ]
    }
   ],
   "source": [
    "%%time\n",
    "oneTrackgdf = icesat2.atl03sp(parms, resources=[granMD.index[2]])\n",
    "onetrack = oneTrackgdf[oneTrackgdf.pair==pair]"
   ]
  },
  {
   "cell_type": "code",
   "execution_count": 31,
   "id": "ad497e0c-746a-4f60-9fc6-f24b42a514fc",
   "metadata": {},
   "outputs": [
    {
     "data": {
      "text/plain": [
       "array([45], dtype=uint16)"
      ]
     },
     "execution_count": 31,
     "metadata": {},
     "output_type": "execute_result"
    }
   ],
   "source": [
    "oneTrackgdf.rgt.unique()"
   ]
  },
  {
   "cell_type": "code",
   "execution_count": 33,
   "id": "2dbbea3c-eca5-4932-8708-98c36220194a",
   "metadata": {},
   "outputs": [
    {
     "name": "stderr",
     "output_type": "stream",
     "text": [
      "Unable to complete request due to errors\n"
     ]
    },
    {
     "name": "stdout",
     "output_type": "stream",
     "text": [
      "CPU times: user 7.65 s, sys: 41 ms, total: 7.69 s\n",
      "Wall time: 4min 11s\n"
     ]
    }
   ],
   "source": [
    "%%time\n",
    "biggdf = icesat2.atl03sp(parms, resources=list(granMD.index))"
   ]
  },
  {
   "cell_type": "code",
   "execution_count": 119,
   "id": "6f7c276e-cb33-4dce-93c6-fe1c086add99",
   "metadata": {},
   "outputs": [
    {
     "data": {
      "text/plain": [
       "array([0, 1], dtype=uint8)"
      ]
     },
     "execution_count": 119,
     "metadata": {},
     "output_type": "execute_result"
    }
   ],
   "source": [
    "biggdf.pair.unique()"
   ]
  },
  {
   "cell_type": "code",
   "execution_count": 151,
   "id": "09b5da74-25a0-43fc-910c-b87d4cb9c907",
   "metadata": {},
   "outputs": [
    {
     "ename": "AttributeError",
     "evalue": "'GeoDataFrame' object has no attribute 'geoid'",
     "output_type": "error",
     "traceback": [
      "\u001b[0;31m---------------------------------------------------------------------------\u001b[0m",
      "\u001b[0;31mAttributeError\u001b[0m                            Traceback (most recent call last)",
      "\u001b[0;32m/var/folders/2z/xrzdsm8j01b3xn9cx49z0v28003707/T/ipykernel_7610/1501861003.py\u001b[0m in \u001b[0;36m?\u001b[0;34m()\u001b[0m\n\u001b[0;32m----> 3\u001b[0;31m \u001b[0mgdf\u001b[0m \u001b[0;34m=\u001b[0m \u001b[0mbiggdf\u001b[0m\u001b[0;34m\u001b[0m\u001b[0;34m\u001b[0m\u001b[0m\n\u001b[0m\u001b[1;32m      4\u001b[0m \u001b[0matl03_yapc\u001b[0m \u001b[0;34m=\u001b[0m \u001b[0mgdf\u001b[0m\u001b[0;34m\u001b[0m\u001b[0;34m\u001b[0m\u001b[0m\n\u001b[1;32m      5\u001b[0m \u001b[0matl03_yapc\u001b[0m\u001b[0;34m.\u001b[0m\u001b[0mheight\u001b[0m \u001b[0;34m-=\u001b[0m \u001b[0matl03_yapc\u001b[0m\u001b[0;34m.\u001b[0m\u001b[0mgeoid\u001b[0m\u001b[0;34m+\u001b[0m\u001b[0matl03_yapc\u001b[0m\u001b[0;34m.\u001b[0m\u001b[0mtide_ocean\u001b[0m\u001b[0;34m+\u001b[0m\u001b[0matl03_yapc\u001b[0m\u001b[0;34m.\u001b[0m\u001b[0mtide_earth\u001b[0m\u001b[0;34m\u001b[0m\u001b[0;34m\u001b[0m\u001b[0m\n",
      "\u001b[0;32m~/Library/Python/3.8/lib/python/site-packages/pandas/core/generic.py\u001b[0m in \u001b[0;36m?\u001b[0;34m(self, name)\u001b[0m\n\u001b[1;32m   5985\u001b[0m             \u001b[0;32mand\u001b[0m \u001b[0mname\u001b[0m \u001b[0;32mnot\u001b[0m \u001b[0;32min\u001b[0m \u001b[0mself\u001b[0m\u001b[0;34m.\u001b[0m\u001b[0m_accessors\u001b[0m\u001b[0;34m\u001b[0m\u001b[0;34m\u001b[0m\u001b[0m\n\u001b[1;32m   5986\u001b[0m             \u001b[0;32mand\u001b[0m \u001b[0mself\u001b[0m\u001b[0;34m.\u001b[0m\u001b[0m_info_axis\u001b[0m\u001b[0;34m.\u001b[0m\u001b[0m_can_hold_identifiers_and_holds_name\u001b[0m\u001b[0;34m(\u001b[0m\u001b[0mname\u001b[0m\u001b[0;34m)\u001b[0m\u001b[0;34m\u001b[0m\u001b[0;34m\u001b[0m\u001b[0m\n\u001b[1;32m   5987\u001b[0m         ):\n\u001b[1;32m   5988\u001b[0m             \u001b[0;32mreturn\u001b[0m \u001b[0mself\u001b[0m\u001b[0;34m[\u001b[0m\u001b[0mname\u001b[0m\u001b[0;34m]\u001b[0m\u001b[0;34m\u001b[0m\u001b[0;34m\u001b[0m\u001b[0m\n\u001b[0;32m-> 5989\u001b[0;31m         \u001b[0;32mreturn\u001b[0m \u001b[0mobject\u001b[0m\u001b[0;34m.\u001b[0m\u001b[0m__getattribute__\u001b[0m\u001b[0;34m(\u001b[0m\u001b[0mself\u001b[0m\u001b[0;34m,\u001b[0m \u001b[0mname\u001b[0m\u001b[0;34m)\u001b[0m\u001b[0;34m\u001b[0m\u001b[0;34m\u001b[0m\u001b[0m\n\u001b[0m",
      "\u001b[0;31mAttributeError\u001b[0m: 'GeoDataFrame' object has no attribute 'geoid'"
     ]
    }
   ],
   "source": [
    "gdf = biggdf\n",
    "atl03_yapc = gdf\n",
    "atl03_yapc.height -= atl03_yapc.geoid+atl03_yapc.tide_ocean+atl03_yapc.tide_earth"
   ]
  },
  {
   "cell_type": "code",
   "execution_count": 97,
   "id": "9d323b70-580d-4cc5-8534-10c23dc99b44",
   "metadata": {},
   "outputs": [
    {
     "data": {
      "text/plain": [
       "Index(['solar_elevation', 'segment_id', 'cycle', 'sc_orient', 'pair', 'rgt',\n",
       "       'segment_dist', 'track', 'background_rate', 'yapc_score', 'landcover',\n",
       "       'height', 'atl08_class', 'atl03_cnf', 'snowcover', 'quality_ph',\n",
       "       'y_atc', 'x_atc', 'relief', 'geometry', 'spot'],\n",
       "      dtype='object')"
      ]
     },
     "execution_count": 97,
     "metadata": {},
     "output_type": "execute_result"
    }
   ],
   "source": [
    "atl03_yapc.columns"
   ]
  },
  {
   "cell_type": "code",
   "execution_count": null,
   "id": "f99d7aba-48b5-4131-9368-e9a67d64cb4c",
   "metadata": {},
   "outputs": [],
   "source": [
    "# ATL03 Processing\n",
    "\n",
    "#Have a list of only one granule\n",
    "gdf = icesat2.atl03sp(parms, resources=[trackID])\n",
    "atl03_yapc = gdf[gdf.pair==pair]\n",
    "\n",
    "#Geophysical corrections\n",
    "atl03_yapc.height -= atl03_yapc.geoid+atl03_yapc.tide_ocean+atl03_yapc.tide_earth\n",
    "\n",
    "# Display Statistics\n",
    "t.display03Info(atl03_yapc)\n",
    "\n",
    "if sFlag03==1:\n",
    "    print(f'Saving file as geojson named {file03_save}.geojson')\n",
    "    atl03_yapc.to_file(f\"{file03_save}.geojson\", driver='GeoJSON')\n",
    "    \n",
    "    \n",
    "## Other stuff    \n",
    "ss_atl03_yapc = t.filter_yapc(atl03_yapc, 0)\n",
    "pTrack = ss_atl03_yapc\n",
    "ss_atl03_yapc = atl03_yapc"
   ]
  },
  {
   "cell_type": "code",
   "execution_count": null,
   "id": "a9d71a79-f836-4fdd-a4ca-868054fa8fea",
   "metadata": {},
   "outputs": [],
   "source": [
    "%%time\n",
    "# ATL03 Processing for a track\n",
    "\n",
    "## add something to check if the data already exists\n",
    "\n",
    "##### Set ATL03 sp parameters ##############################\n",
    "parms = {\n",
    "    \"poly\": region,\n",
    "    \"srt\": 0,\n",
    "    \"len\": res*2,\n",
    "    \"res\": res,\n",
    "    # identify ground track\n",
    "    \"track\": tr,\n",
    "    # classification and checks\n",
    "    # still return photon segments that fail checks\n",
    "    \"pass_invalid\": True,\n",
    "    # all photons\n",
    "    \"cnf\": 2,\n",
    "    \"cnt\": 5,\n",
    "    \"atl03_geo_fields\": [\"ref_azimuth\", \"ref_elev\", \"geoid\"],\n",
    "    \"atl03_ph_fields\": [\"delta_time\"],\n",
    "    # all land classification flags\n",
    "    \"atl08_class\": [\"atl08_noise\", \"atl08_ground\", \"atl08_canopy\", \"atl08_top_of_canopy\", \"atl08_unclassified\"],\n",
    "    # all photons\n",
    "    #\"yapc\": dict(knn=0, win_h=6, win_x=11, min_ph=4, score=100), \n",
    "}\n",
    "\n",
    "#Have a list of only one granule\n",
    "gdf = icesat2.atl03sp(parms, resources=[trackID])\n",
    "atl03_yapc = gdf[gdf.pair==pair]\n",
    "\n",
    "# Display Statistics\n",
    "t.display03Info(atl03_yapc)\n",
    "\n",
    "if sFlag03==1:\n",
    "    print(f'Saving file as geojson named {file03_save}.geojson')\n",
    "    atl03_yapc.to_file(f\"{file03_save}.geojson\", driver='GeoJSON')"
   ]
  },
  {
   "cell_type": "code",
   "execution_count": null,
   "id": "1d2c49cf-0214-4ed6-a78f-73cf28c5d905",
   "metadata": {},
   "outputs": [],
   "source": []
  }
 ],
 "metadata": {
  "kernelspec": {
   "display_name": "Python 3 (ipykernel)",
   "language": "python",
   "name": "python3"
  },
  "language_info": {
   "codemirror_mode": {
    "name": "ipython",
    "version": 3
   },
   "file_extension": ".py",
   "mimetype": "text/x-python",
   "name": "python",
   "nbconvert_exporter": "python",
   "pygments_lexer": "ipython3",
   "version": "3.9.16"
  }
 },
 "nbformat": 4,
 "nbformat_minor": 5
}
